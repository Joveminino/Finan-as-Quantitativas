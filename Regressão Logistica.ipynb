{
 "cells": [
  {
   "cell_type": "markdown",
   "metadata": {},
   "source": [
    "### Regressao Logistica em R\n",
    "\n",
    "#### Motivaçao:\n",
    " - O conceito do Z-Score\n",
    " - Construindo mais variaveis para o modelo\n",
    " - Treinamento e avaliaçao do Modelo\n",
    " - Area Under the Curve (AUC) ROC e o Gini\n",
    " - Resultados:\n",
    "     - \"Retorno de 2009 à 2019:  51.32 %%\"\n",
    "     - \"Retorno juros simples por ano:  4.67%\"\n",
    " - Consideraçoes finais\n",
    "\n",
    "-------------------------------------------------------------------\n",
    "\n",
    "### Bibliotecas"
   ]
  },
  {
   "cell_type": "code",
   "execution_count": 3,
   "metadata": {
    "vscode": {
     "languageId": "r"
    }
   },
   "outputs": [
    {
     "name": "stderr",
     "output_type": "stream",
     "text": [
      "\n",
      "Attaching package: 'data.table'\n",
      "\n",
      "The following objects are masked from 'package:xts':\n",
      "\n",
      "    first, last\n",
      "\n",
      "Registered S3 method overwritten by 'rvest':\n",
      "  method            from\n",
      "  read_xml.response xml2\n",
      "-- Attaching packages --------------------------------------- tidyverse 1.2.1 --\n",
      "v tidyr   0.8.3       v dplyr   0.8.0.1\n",
      "v readr   1.3.1       v stringr 1.4.0  \n",
      "v purrr   0.3.2       v forcats 0.5.1  \n",
      "Warning message:\n",
      "\"package 'forcats' was built under R version 3.6.3\"-- Conflicts ------------------------------------------ tidyverse_conflicts() --\n",
      "x dplyr::between()   masks data.table::between()\n",
      "x dplyr::filter()    masks stats::filter()\n",
      "x dplyr::first()     masks data.table::first(), xts::first()\n",
      "x dplyr::lag()       masks stats::lag()\n",
      "x dplyr::last()      masks data.table::last(), xts::last()\n",
      "x purrr::lift()      masks caret::lift()\n",
      "x purrr::transpose() masks data.table::transpose()\n"
     ]
    }
   ],
   "source": [
    "library(stats)\n",
    "library(rattle)\n",
    "library(caret)\n",
    "library(ROCR)\n",
    "library(party)\n",
    "library(mlbench)\n",
    "library(quantmod)\n",
    "library(e1071)\n",
    "library(data.table)\n",
    "library(tidyverse)"
   ]
  },
  {
   "cell_type": "markdown",
   "metadata": {},
   "source": [
    "-----------------------------------------------------------------\n",
    "\n",
    "### Carregando a base de dados\n"
   ]
  },
  {
   "cell_type": "code",
   "execution_count": 7,
   "metadata": {
    "vscode": {
     "languageId": "r"
    }
   },
   "outputs": [],
   "source": [
    "# Mudando o diretório de trabalho \n",
    "\n",
    "setwd('E:/Base de dados')"
   ]
  },
  {
   "cell_type": "code",
   "execution_count": 8,
   "metadata": {
    "vscode": {
     "languageId": "r"
    }
   },
   "outputs": [],
   "source": [
    "# Importando arquivos tipo CSV - função fread\n",
    "\n",
    "# Carregando o Dataset e ajustando a data\n",
    "\n",
    "EURUSD <- fread(\"eurusd.csv\", header = TRUE, sep = \";\")\n",
    "\n",
    "EURUSD <- data.frame(EURUSD)\n",
    "\n",
    "names(EURUSD)[1] <- \"DATE\"\n",
    "\n",
    "EURUSD$DATE <- as.POSIXct(strptime(EURUSD$DATE, format = \"%d/%m/%Y\"))"
   ]
  },
  {
   "cell_type": "code",
   "execution_count": 9,
   "metadata": {
    "vscode": {
     "languageId": "r"
    }
   },
   "outputs": [
    {
     "data": {
      "text/html": [
       "<table>\n",
       "<thead><tr><th scope=col>DATE</th><th scope=col>Open</th><th scope=col>High</th><th scope=col>Low</th><th scope=col>Close</th></tr></thead>\n",
       "<tbody>\n",
       "\t<tr><td>2003-05-05</td><td>1.12728   </td><td>1.14506   </td><td>1.12723   </td><td>1.14338   </td></tr>\n",
       "\t<tr><td>2003-05-06</td><td>1.14297   </td><td>1.14438   </td><td>1.13265   </td><td>1.13647   </td></tr>\n",
       "\t<tr><td>2003-05-07</td><td>1.13605   </td><td>1.15077   </td><td>1.13006   </td><td>1.14996   </td></tr>\n",
       "\t<tr><td>2003-05-08</td><td>1.14932   </td><td>1.15366   </td><td>1.14346   </td><td>1.14877   </td></tr>\n",
       "\t<tr><td>2003-05-11</td><td>1.14888   </td><td>1.16229   </td><td>1.14888   </td><td>1.15427   </td></tr>\n",
       "\t<tr><td>2003-05-12</td><td>1.15357   </td><td>1.15739   </td><td>1.14620   </td><td>1.15120   </td></tr>\n",
       "</tbody>\n",
       "</table>\n"
      ],
      "text/latex": [
       "\\begin{tabular}{r|lllll}\n",
       " DATE & Open & High & Low & Close\\\\\n",
       "\\hline\n",
       "\t 2003-05-05 & 1.12728    & 1.14506    & 1.12723    & 1.14338   \\\\\n",
       "\t 2003-05-06 & 1.14297    & 1.14438    & 1.13265    & 1.13647   \\\\\n",
       "\t 2003-05-07 & 1.13605    & 1.15077    & 1.13006    & 1.14996   \\\\\n",
       "\t 2003-05-08 & 1.14932    & 1.15366    & 1.14346    & 1.14877   \\\\\n",
       "\t 2003-05-11 & 1.14888    & 1.16229    & 1.14888    & 1.15427   \\\\\n",
       "\t 2003-05-12 & 1.15357    & 1.15739    & 1.14620    & 1.15120   \\\\\n",
       "\\end{tabular}\n"
      ],
      "text/markdown": [
       "\n",
       "| DATE | Open | High | Low | Close |\n",
       "|---|---|---|---|---|\n",
       "| 2003-05-05 | 1.12728    | 1.14506    | 1.12723    | 1.14338    |\n",
       "| 2003-05-06 | 1.14297    | 1.14438    | 1.13265    | 1.13647    |\n",
       "| 2003-05-07 | 1.13605    | 1.15077    | 1.13006    | 1.14996    |\n",
       "| 2003-05-08 | 1.14932    | 1.15366    | 1.14346    | 1.14877    |\n",
       "| 2003-05-11 | 1.14888    | 1.16229    | 1.14888    | 1.15427    |\n",
       "| 2003-05-12 | 1.15357    | 1.15739    | 1.14620    | 1.15120    |\n",
       "\n"
      ],
      "text/plain": [
       "  DATE       Open    High    Low     Close  \n",
       "1 2003-05-05 1.12728 1.14506 1.12723 1.14338\n",
       "2 2003-05-06 1.14297 1.14438 1.13265 1.13647\n",
       "3 2003-05-07 1.13605 1.15077 1.13006 1.14996\n",
       "4 2003-05-08 1.14932 1.15366 1.14346 1.14877\n",
       "5 2003-05-11 1.14888 1.16229 1.14888 1.15427\n",
       "6 2003-05-12 1.15357 1.15739 1.14620 1.15120"
      ]
     },
     "metadata": {},
     "output_type": "display_data"
    },
    {
     "data": {
      "text/html": [
       "<table>\n",
       "<thead><tr><th></th><th scope=col>DATE</th><th scope=col>Open</th><th scope=col>High</th><th scope=col>Low</th><th scope=col>Close</th></tr></thead>\n",
       "<tbody>\n",
       "\t<tr><th scope=row>4323</th><td>2019-11-28</td><td>1.09987   </td><td>1.10179   </td><td>1.09986   </td><td>1.10067   </td></tr>\n",
       "\t<tr><th scope=row>4324</th><td>2019-11-29</td><td>1.10059   </td><td>1.10282   </td><td>1.09811   </td><td>1.10150   </td></tr>\n",
       "\t<tr><th scope=row>4325</th><td>2019-12-02</td><td>1.10229   </td><td>1.10907   </td><td>1.10029   </td><td>1.10784   </td></tr>\n",
       "\t<tr><th scope=row>4326</th><td>2019-12-03</td><td>1.10782   </td><td>1.10934   </td><td>1.10660   </td><td>1.10809   </td></tr>\n",
       "\t<tr><th scope=row>4327</th><td>2019-12-04</td><td>1.10809   </td><td>1.11161   </td><td>1.10666   </td><td>1.10775   </td></tr>\n",
       "\t<tr><th scope=row>4328</th><td>2019-12-05</td><td>1.10772   </td><td>1.10772   </td><td>1.11078   </td><td>1.10977   </td></tr>\n",
       "</tbody>\n",
       "</table>\n"
      ],
      "text/latex": [
       "\\begin{tabular}{r|lllll}\n",
       "  & DATE & Open & High & Low & Close\\\\\n",
       "\\hline\n",
       "\t4323 & 2019-11-28 & 1.09987    & 1.10179    & 1.09986    & 1.10067   \\\\\n",
       "\t4324 & 2019-11-29 & 1.10059    & 1.10282    & 1.09811    & 1.10150   \\\\\n",
       "\t4325 & 2019-12-02 & 1.10229    & 1.10907    & 1.10029    & 1.10784   \\\\\n",
       "\t4326 & 2019-12-03 & 1.10782    & 1.10934    & 1.10660    & 1.10809   \\\\\n",
       "\t4327 & 2019-12-04 & 1.10809    & 1.11161    & 1.10666    & 1.10775   \\\\\n",
       "\t4328 & 2019-12-05 & 1.10772    & 1.10772    & 1.11078    & 1.10977   \\\\\n",
       "\\end{tabular}\n"
      ],
      "text/markdown": [
       "\n",
       "| <!--/--> | DATE | Open | High | Low | Close |\n",
       "|---|---|---|---|---|---|\n",
       "| 4323 | 2019-11-28 | 1.09987    | 1.10179    | 1.09986    | 1.10067    |\n",
       "| 4324 | 2019-11-29 | 1.10059    | 1.10282    | 1.09811    | 1.10150    |\n",
       "| 4325 | 2019-12-02 | 1.10229    | 1.10907    | 1.10029    | 1.10784    |\n",
       "| 4326 | 2019-12-03 | 1.10782    | 1.10934    | 1.10660    | 1.10809    |\n",
       "| 4327 | 2019-12-04 | 1.10809    | 1.11161    | 1.10666    | 1.10775    |\n",
       "| 4328 | 2019-12-05 | 1.10772    | 1.10772    | 1.11078    | 1.10977    |\n",
       "\n"
      ],
      "text/plain": [
       "     DATE       Open    High    Low     Close  \n",
       "4323 2019-11-28 1.09987 1.10179 1.09986 1.10067\n",
       "4324 2019-11-29 1.10059 1.10282 1.09811 1.10150\n",
       "4325 2019-12-02 1.10229 1.10907 1.10029 1.10784\n",
       "4326 2019-12-03 1.10782 1.10934 1.10660 1.10809\n",
       "4327 2019-12-04 1.10809 1.11161 1.10666 1.10775\n",
       "4328 2019-12-05 1.10772 1.10772 1.11078 1.10977"
      ]
     },
     "metadata": {},
     "output_type": "display_data"
    }
   ],
   "source": [
    "head(EURUSD)\n",
    "tail(EURUSD)"
   ]
  },
  {
   "cell_type": "markdown",
   "metadata": {},
   "source": [
    "--------------------------------------------------------------------\n",
    "\n",
    "## O Z-Score"
   ]
  },
  {
   "cell_type": "code",
   "execution_count": 11,
   "metadata": {
    "vscode": {
     "languageId": "r"
    }
   },
   "outputs": [
    {
     "data": {
      "text/html": [
       "<table>\n",
       "<thead><tr><th></th><th scope=col>DATE</th><th scope=col>Open</th><th scope=col>High</th><th scope=col>Low</th><th scope=col>Close</th><th scope=col>Close_lead</th><th scope=col>close_lag</th><th scope=col>Close_lag</th><th scope=col>Return</th><th scope=col>Alvo1</th><th scope=col>Alvo1_Bin</th></tr></thead>\n",
       "<tbody>\n",
       "\t<tr><th scope=row>2</th><td>2003-05-07</td><td>1.13605   </td><td>1.15077   </td><td>1.13006   </td><td>1.14996   </td><td>1.14877   </td><td>1.13647   </td><td>1.13647   </td><td> 1.1870089</td><td>-0.1034819</td><td>0         </td></tr>\n",
       "\t<tr><th scope=row>3</th><td>2003-05-08</td><td>1.14932   </td><td>1.15366   </td><td>1.14346   </td><td>1.14877   </td><td>1.15427   </td><td>1.14996   </td><td>1.14996   </td><td>-0.1034819</td><td> 0.4787729</td><td>1         </td></tr>\n",
       "\t<tr><th scope=row>4</th><td>2003-05-11</td><td>1.14888   </td><td>1.16229   </td><td>1.14888   </td><td>1.15427   </td><td>1.15120   </td><td>1.14877   </td><td>1.14877   </td><td> 0.4787729</td><td>-0.2659690</td><td>0         </td></tr>\n",
       "\t<tr><th scope=row>5</th><td>2003-05-12</td><td>1.15357   </td><td>1.15739   </td><td>1.14620   </td><td>1.15120   </td><td>1.14940   </td><td>1.15427   </td><td>1.15427   </td><td>-0.2659690</td><td>-0.1563586</td><td>0         </td></tr>\n",
       "\t<tr><th scope=row>6</th><td>2003-05-13</td><td>1.15120   </td><td>1.15370   </td><td>1.14667   </td><td>1.14940   </td><td>1.13847   </td><td>1.15120   </td><td>1.15120   </td><td>-0.1563586</td><td>-0.9509309</td><td>0         </td></tr>\n",
       "\t<tr><th scope=row>7</th><td>2003-05-14</td><td>1.14913   </td><td>1.14967   </td><td>1.13744   </td><td>1.13847   </td><td>1.15705   </td><td>1.14940   </td><td>1.14940   </td><td>-0.9509309</td><td> 1.6320149</td><td>1         </td></tr>\n",
       "</tbody>\n",
       "</table>\n"
      ],
      "text/latex": [
       "\\begin{tabular}{r|lllllllllll}\n",
       "  & DATE & Open & High & Low & Close & Close\\_lead & close\\_lag & Close\\_lag & Return & Alvo1 & Alvo1\\_Bin\\\\\n",
       "\\hline\n",
       "\t2 & 2003-05-07 & 1.13605    & 1.15077    & 1.13006    & 1.14996    & 1.14877    & 1.13647    & 1.13647    &  1.1870089 & -0.1034819 & 0         \\\\\n",
       "\t3 & 2003-05-08 & 1.14932    & 1.15366    & 1.14346    & 1.14877    & 1.15427    & 1.14996    & 1.14996    & -0.1034819 &  0.4787729 & 1         \\\\\n",
       "\t4 & 2003-05-11 & 1.14888    & 1.16229    & 1.14888    & 1.15427    & 1.15120    & 1.14877    & 1.14877    &  0.4787729 & -0.2659690 & 0         \\\\\n",
       "\t5 & 2003-05-12 & 1.15357    & 1.15739    & 1.14620    & 1.15120    & 1.14940    & 1.15427    & 1.15427    & -0.2659690 & -0.1563586 & 0         \\\\\n",
       "\t6 & 2003-05-13 & 1.15120    & 1.15370    & 1.14667    & 1.14940    & 1.13847    & 1.15120    & 1.15120    & -0.1563586 & -0.9509309 & 0         \\\\\n",
       "\t7 & 2003-05-14 & 1.14913    & 1.14967    & 1.13744    & 1.13847    & 1.15705    & 1.14940    & 1.14940    & -0.9509309 &  1.6320149 & 1         \\\\\n",
       "\\end{tabular}\n"
      ],
      "text/markdown": [
       "\n",
       "| <!--/--> | DATE | Open | High | Low | Close | Close_lead | close_lag | Close_lag | Return | Alvo1 | Alvo1_Bin |\n",
       "|---|---|---|---|---|---|---|---|---|---|---|---|\n",
       "| 2 | 2003-05-07 | 1.13605    | 1.15077    | 1.13006    | 1.14996    | 1.14877    | 1.13647    | 1.13647    |  1.1870089 | -0.1034819 | 0          |\n",
       "| 3 | 2003-05-08 | 1.14932    | 1.15366    | 1.14346    | 1.14877    | 1.15427    | 1.14996    | 1.14996    | -0.1034819 |  0.4787729 | 1          |\n",
       "| 4 | 2003-05-11 | 1.14888    | 1.16229    | 1.14888    | 1.15427    | 1.15120    | 1.14877    | 1.14877    |  0.4787729 | -0.2659690 | 0          |\n",
       "| 5 | 2003-05-12 | 1.15357    | 1.15739    | 1.14620    | 1.15120    | 1.14940    | 1.15427    | 1.15427    | -0.2659690 | -0.1563586 | 0          |\n",
       "| 6 | 2003-05-13 | 1.15120    | 1.15370    | 1.14667    | 1.14940    | 1.13847    | 1.15120    | 1.15120    | -0.1563586 | -0.9509309 | 0          |\n",
       "| 7 | 2003-05-14 | 1.14913    | 1.14967    | 1.13744    | 1.13847    | 1.15705    | 1.14940    | 1.14940    | -0.9509309 |  1.6320149 | 1          |\n",
       "\n"
      ],
      "text/plain": [
       "  DATE       Open    High    Low     Close   Close_lead close_lag Close_lag\n",
       "2 2003-05-07 1.13605 1.15077 1.13006 1.14996 1.14877    1.13647   1.13647  \n",
       "3 2003-05-08 1.14932 1.15366 1.14346 1.14877 1.15427    1.14996   1.14996  \n",
       "4 2003-05-11 1.14888 1.16229 1.14888 1.15427 1.15120    1.14877   1.14877  \n",
       "5 2003-05-12 1.15357 1.15739 1.14620 1.15120 1.14940    1.15427   1.15427  \n",
       "6 2003-05-13 1.15120 1.15370 1.14667 1.14940 1.13847    1.15120   1.15120  \n",
       "7 2003-05-14 1.14913 1.14967 1.13744 1.13847 1.15705    1.14940   1.14940  \n",
       "  Return     Alvo1      Alvo1_Bin\n",
       "2  1.1870089 -0.1034819 0        \n",
       "3 -0.1034819  0.4787729 1        \n",
       "4  0.4787729 -0.2659690 0        \n",
       "5 -0.2659690 -0.1563586 0        \n",
       "6 -0.1563586 -0.9509309 0        \n",
       "7 -0.9509309  1.6320149 1        "
      ]
     },
     "metadata": {},
     "output_type": "display_data"
    }
   ],
   "source": [
    "# Calculando os retornos e o alvo\n",
    "\n",
    "# Calculando os retornos e o alvo\n",
    "EURUSD <- mutate(EURUSD, Close_lead = lead(Close)) # Atrasando os valores\n",
    "EURUSD <- mutate(EURUSD, Close_lag = lag(Close)) # vai criar um NA na primeira linha\n",
    "\n",
    "EURUSD <- na.omit(EURUSD)\n",
    "\n",
    "EURUSD$Return <- (EURUSD$Close/EURUSD$Close_lag-1)*100\n",
    "EURUSD$Alvo1 <- (EURUSD$Close_lead/EURUSD$Close-1)*100\n",
    "EURUSD$Alvo1_Bin <- ifelse(EURUSD$Alvo1 > 0, 1,0)\n",
    "\n",
    "\n",
    "\n",
    "head(EURUSD)"
   ]
  },
  {
   "cell_type": "code",
   "execution_count": 12,
   "metadata": {
    "vscode": {
     "languageId": "r"
    }
   },
   "outputs": [
    {
     "name": "stderr",
     "output_type": "stream",
     "text": [
      "Warning message:\n",
      "\"package 'caTools' was built under R version 3.6.3\""
     ]
    }
   ],
   "source": [
    "# Calculando o Z-Score\n",
    "library(caTools)"
   ]
  },
  {
   "cell_type": "code",
   "execution_count": 13,
   "metadata": {
    "vscode": {
     "languageId": "r"
    }
   },
   "outputs": [
    {
     "data": {
      "text/html": [
       "<table>\n",
       "<thead><tr><th></th><th scope=col>DATE</th><th scope=col>Open</th><th scope=col>High</th><th scope=col>Low</th><th scope=col>Close</th><th scope=col>Close_lead</th><th scope=col>close_lag</th><th scope=col>Close_lag</th><th scope=col>Return</th><th scope=col>Alvo1</th><th scope=col>Alvo1_Bin</th><th scope=col>MA_Return</th><th scope=col>SD_Return</th><th scope=col>ZScore</th></tr></thead>\n",
       "<tbody>\n",
       "\t<tr><th scope=row>2</th><td>2003-05-07</td><td>1.13605   </td><td>1.15077   </td><td>1.13006   </td><td>1.14996   </td><td>1.14877   </td><td>1.13647   </td><td>1.13647   </td><td> 1.1870089</td><td>-0.1034819</td><td>0         </td><td>NA        </td><td>NA        </td><td>NA        </td></tr>\n",
       "\t<tr><th scope=row>3</th><td>2003-05-08</td><td>1.14932   </td><td>1.15366   </td><td>1.14346   </td><td>1.14877   </td><td>1.15427   </td><td>1.14996   </td><td>1.14996   </td><td>-0.1034819</td><td> 0.4787729</td><td>1         </td><td>NA        </td><td>NA        </td><td>NA        </td></tr>\n",
       "\t<tr><th scope=row>4</th><td>2003-05-11</td><td>1.14888   </td><td>1.16229   </td><td>1.14888   </td><td>1.15427   </td><td>1.15120   </td><td>1.14877   </td><td>1.14877   </td><td> 0.4787729</td><td>-0.2659690</td><td>0         </td><td>NA        </td><td>NA        </td><td>NA        </td></tr>\n",
       "\t<tr><th scope=row>5</th><td>2003-05-12</td><td>1.15357   </td><td>1.15739   </td><td>1.14620   </td><td>1.15120   </td><td>1.14940   </td><td>1.15427   </td><td>1.15427   </td><td>-0.2659690</td><td>-0.1563586</td><td>0         </td><td>NA        </td><td>NA        </td><td>NA        </td></tr>\n",
       "\t<tr><th scope=row>6</th><td>2003-05-13</td><td>1.15120   </td><td>1.15370   </td><td>1.14667   </td><td>1.14940   </td><td>1.13847   </td><td>1.15120   </td><td>1.15120   </td><td>-0.1563586</td><td>-0.9509309</td><td>0         </td><td>NA        </td><td>NA        </td><td>NA        </td></tr>\n",
       "\t<tr><th scope=row>7</th><td>2003-05-14</td><td>1.14913   </td><td>1.14967   </td><td>1.13744   </td><td>1.13847   </td><td>1.15705   </td><td>1.14940   </td><td>1.14940   </td><td>-0.9509309</td><td> 1.6320149</td><td>1         </td><td>NA        </td><td>NA        </td><td>NA        </td></tr>\n",
       "</tbody>\n",
       "</table>\n"
      ],
      "text/latex": [
       "\\begin{tabular}{r|llllllllllllll}\n",
       "  & DATE & Open & High & Low & Close & Close\\_lead & close\\_lag & Close\\_lag & Return & Alvo1 & Alvo1\\_Bin & MA\\_Return & SD\\_Return & ZScore\\\\\n",
       "\\hline\n",
       "\t2 & 2003-05-07 & 1.13605    & 1.15077    & 1.13006    & 1.14996    & 1.14877    & 1.13647    & 1.13647    &  1.1870089 & -0.1034819 & 0          & NA         & NA         & NA        \\\\\n",
       "\t3 & 2003-05-08 & 1.14932    & 1.15366    & 1.14346    & 1.14877    & 1.15427    & 1.14996    & 1.14996    & -0.1034819 &  0.4787729 & 1          & NA         & NA         & NA        \\\\\n",
       "\t4 & 2003-05-11 & 1.14888    & 1.16229    & 1.14888    & 1.15427    & 1.15120    & 1.14877    & 1.14877    &  0.4787729 & -0.2659690 & 0          & NA         & NA         & NA        \\\\\n",
       "\t5 & 2003-05-12 & 1.15357    & 1.15739    & 1.14620    & 1.15120    & 1.14940    & 1.15427    & 1.15427    & -0.2659690 & -0.1563586 & 0          & NA         & NA         & NA        \\\\\n",
       "\t6 & 2003-05-13 & 1.15120    & 1.15370    & 1.14667    & 1.14940    & 1.13847    & 1.15120    & 1.15120    & -0.1563586 & -0.9509309 & 0          & NA         & NA         & NA        \\\\\n",
       "\t7 & 2003-05-14 & 1.14913    & 1.14967    & 1.13744    & 1.13847    & 1.15705    & 1.14940    & 1.14940    & -0.9509309 &  1.6320149 & 1          & NA         & NA         & NA        \\\\\n",
       "\\end{tabular}\n"
      ],
      "text/markdown": [
       "\n",
       "| <!--/--> | DATE | Open | High | Low | Close | Close_lead | close_lag | Close_lag | Return | Alvo1 | Alvo1_Bin | MA_Return | SD_Return | ZScore |\n",
       "|---|---|---|---|---|---|---|---|---|---|---|---|---|---|---|\n",
       "| 2 | 2003-05-07 | 1.13605    | 1.15077    | 1.13006    | 1.14996    | 1.14877    | 1.13647    | 1.13647    |  1.1870089 | -0.1034819 | 0          | NA         | NA         | NA         |\n",
       "| 3 | 2003-05-08 | 1.14932    | 1.15366    | 1.14346    | 1.14877    | 1.15427    | 1.14996    | 1.14996    | -0.1034819 |  0.4787729 | 1          | NA         | NA         | NA         |\n",
       "| 4 | 2003-05-11 | 1.14888    | 1.16229    | 1.14888    | 1.15427    | 1.15120    | 1.14877    | 1.14877    |  0.4787729 | -0.2659690 | 0          | NA         | NA         | NA         |\n",
       "| 5 | 2003-05-12 | 1.15357    | 1.15739    | 1.14620    | 1.15120    | 1.14940    | 1.15427    | 1.15427    | -0.2659690 | -0.1563586 | 0          | NA         | NA         | NA         |\n",
       "| 6 | 2003-05-13 | 1.15120    | 1.15370    | 1.14667    | 1.14940    | 1.13847    | 1.15120    | 1.15120    | -0.1563586 | -0.9509309 | 0          | NA         | NA         | NA         |\n",
       "| 7 | 2003-05-14 | 1.14913    | 1.14967    | 1.13744    | 1.13847    | 1.15705    | 1.14940    | 1.14940    | -0.9509309 |  1.6320149 | 1          | NA         | NA         | NA         |\n",
       "\n"
      ],
      "text/plain": [
       "  DATE       Open    High    Low     Close   Close_lead close_lag Close_lag\n",
       "2 2003-05-07 1.13605 1.15077 1.13006 1.14996 1.14877    1.13647   1.13647  \n",
       "3 2003-05-08 1.14932 1.15366 1.14346 1.14877 1.15427    1.14996   1.14996  \n",
       "4 2003-05-11 1.14888 1.16229 1.14888 1.15427 1.15120    1.14877   1.14877  \n",
       "5 2003-05-12 1.15357 1.15739 1.14620 1.15120 1.14940    1.15427   1.15427  \n",
       "6 2003-05-13 1.15120 1.15370 1.14667 1.14940 1.13847    1.15120   1.15120  \n",
       "7 2003-05-14 1.14913 1.14967 1.13744 1.13847 1.15705    1.14940   1.14940  \n",
       "  Return     Alvo1      Alvo1_Bin MA_Return SD_Return ZScore\n",
       "2  1.1870089 -0.1034819 0         NA        NA        NA    \n",
       "3 -0.1034819  0.4787729 1         NA        NA        NA    \n",
       "4  0.4787729 -0.2659690 0         NA        NA        NA    \n",
       "5 -0.2659690 -0.1563586 0         NA        NA        NA    \n",
       "6 -0.1563586 -0.9509309 0         NA        NA        NA    \n",
       "7 -0.9509309  1.6320149 1         NA        NA        NA    "
      ]
     },
     "metadata": {},
     "output_type": "display_data"
    }
   ],
   "source": [
    "# calculando a média movel dos retornos e o desvio padrão\n",
    "\n",
    "periodo_mm <- 15\n",
    "\n",
    "EURUSD$MA_Return <- c(rep(NA, periodo_mm-1), runmean(EURUSD$Return, periodo_mm, alg=c(\"C\"), endrule = c(\"trim\"))) \n",
    "\n",
    "EURUSD$SD_Return <- c(rep(NA, periodo_mm-1), runsd(EURUSD$Return, periodo_mm, endrule = c(\"trim\")))\n",
    "\n",
    "EURUSD$ZScore <- (EURUSD$Return-EURUSD$MA_Return)/EURUSD$SD_Return\n",
    "\n",
    "head(EURUSD)\n",
    "\n",
    "write.csv(EURUSD,\"teste_media.csv\", row.names = FALSE)"
   ]
  },
  {
   "cell_type": "code",
   "execution_count": 14,
   "metadata": {
    "vscode": {
     "languageId": "r"
    }
   },
   "outputs": [
    {
     "data": {
      "image/png": "[encoded data removed]",
      "text/plain": [
       "Plot with title \"Histogram of EURUSD$ZScore\""
      ]
     },
     "metadata": {},
     "output_type": "display_data"
    }
   ],
   "source": [
    "hist(EURUSD$ZScore)"
   ]
  },
  {
   "cell_type": "code",
   "execution_count": 15,
   "metadata": {
    "vscode": {
     "languageId": "r"
    }
   },
   "outputs": [
    {
     "data": {
      "text/html": [
       "<table>\n",
       "<thead><tr><th></th><th scope=col>DATE</th><th scope=col>Open</th><th scope=col>High</th><th scope=col>Low</th><th scope=col>Close</th><th scope=col>Close_lead</th><th scope=col>close_lag</th><th scope=col>Close_lag</th><th scope=col>Return</th><th scope=col>Alvo1</th><th scope=col>Alvo1_Bin</th><th scope=col>MA_Return</th><th scope=col>SD_Return</th><th scope=col>ZScore</th><th scope=col>MA_Close</th><th scope=col>RSL</th></tr></thead>\n",
       "<tbody>\n",
       "\t<tr><th scope=row>4306</th><td>2019-11-26  </td><td>1.10115     </td><td>1.10256     </td><td>1.10071     </td><td>1.10194     </td><td>1.09989     </td><td>1.10126     </td><td>1.10126     </td><td> 0.06174745 </td><td>-0.18603554 </td><td>0           </td><td>-0.032916297</td><td>0.1790719   </td><td> 0.52863541 </td><td>1.103863    </td><td>-0.001741763</td></tr>\n",
       "\t<tr><th scope=row>4307</th><td>2019-11-27  </td><td>1.10194     </td><td>1.10246     </td><td>1.09922     </td><td>1.09989     </td><td>1.10067     </td><td>1.10194     </td><td>1.10194     </td><td>-0.18603554 </td><td> 0.07091618 </td><td>1           </td><td>-0.040261868</td><td>0.1831719   </td><td>-0.79582996 </td><td>1.103417    </td><td>-0.003196133</td></tr>\n",
       "\t<tr><th scope=row>4308</th><td>2019-11-28  </td><td>1.09987     </td><td>1.10179     </td><td>1.09986     </td><td>1.10067     </td><td>1.10150     </td><td>1.09989     </td><td>1.09989     </td><td> 0.07091618 </td><td> 0.07540861 </td><td>1           </td><td>-0.025834568</td><td>0.1828137   </td><td> 0.52923144 </td><td>1.103130    </td><td>-0.002230018</td></tr>\n",
       "\t<tr><th scope=row>4309</th><td>2019-11-29  </td><td>1.10059     </td><td>1.10282     </td><td>1.09811     </td><td>1.10150     </td><td>1.10784     </td><td>1.10067     </td><td>1.10067     </td><td> 0.07540861 </td><td> 0.57557876 </td><td>1           </td><td>-0.001440285</td><td>0.1688543   </td><td> 0.45511949 </td><td>1.103113    </td><td>-0.001461924</td></tr>\n",
       "\t<tr><th scope=row>4310</th><td>2019-12-02  </td><td>1.10229     </td><td>1.10907     </td><td>1.10029     </td><td>1.10784     </td><td>1.10809     </td><td>1.10150     </td><td>1.10150     </td><td> 0.57557876 </td><td> 0.02256644 </td><td>1           </td><td> 0.028036773</td><td>0.2237496   </td><td> 2.44711922 </td><td>1.103420    </td><td> 0.004005728</td></tr>\n",
       "\t<tr><th scope=row>4311</th><td>2019-12-03  </td><td>1.10782     </td><td>1.10934     </td><td>1.10660     </td><td>1.10809     </td><td>1.10775     </td><td>1.10784     </td><td>1.10784     </td><td> 0.02256644 </td><td>-0.03068343 </td><td>0           </td><td> 0.043741928</td><td>0.2136621   </td><td>-0.09910741 </td><td>1.103901    </td><td> 0.003795027</td></tr>\n",
       "</tbody>\n",
       "</table>\n"
      ],
      "text/latex": [
       "\\begin{tabular}{r|llllllllllllllll}\n",
       "  & DATE & Open & High & Low & Close & Close\\_lead & close\\_lag & Close\\_lag & Return & Alvo1 & Alvo1\\_Bin & MA\\_Return & SD\\_Return & ZScore & MA\\_Close & RSL\\\\\n",
       "\\hline\n",
       "\t4306 & 2019-11-26   & 1.10115      & 1.10256      & 1.10071      & 1.10194      & 1.09989      & 1.10126      & 1.10126      &  0.06174745  & -0.18603554  & 0            & -0.032916297 & 0.1790719    &  0.52863541  & 1.103863     & -0.001741763\\\\\n",
       "\t4307 & 2019-11-27   & 1.10194      & 1.10246      & 1.09922      & 1.09989      & 1.10067      & 1.10194      & 1.10194      & -0.18603554  &  0.07091618  & 1            & -0.040261868 & 0.1831719    & -0.79582996  & 1.103417     & -0.003196133\\\\\n",
       "\t4308 & 2019-11-28   & 1.09987      & 1.10179      & 1.09986      & 1.10067      & 1.10150      & 1.09989      & 1.09989      &  0.07091618  &  0.07540861  & 1            & -0.025834568 & 0.1828137    &  0.52923144  & 1.103130     & -0.002230018\\\\\n",
       "\t4309 & 2019-11-29   & 1.10059      & 1.10282      & 1.09811      & 1.10150      & 1.10784      & 1.10067      & 1.10067      &  0.07540861  &  0.57557876  & 1            & -0.001440285 & 0.1688543    &  0.45511949  & 1.103113     & -0.001461924\\\\\n",
       "\t4310 & 2019-12-02   & 1.10229      & 1.10907      & 1.10029      & 1.10784      & 1.10809      & 1.10150      & 1.10150      &  0.57557876  &  0.02256644  & 1            &  0.028036773 & 0.2237496    &  2.44711922  & 1.103420     &  0.004005728\\\\\n",
       "\t4311 & 2019-12-03   & 1.10782      & 1.10934      & 1.10660      & 1.10809      & 1.10775      & 1.10784      & 1.10784      &  0.02256644  & -0.03068343  & 0            &  0.043741928 & 0.2136621    & -0.09910741  & 1.103901     &  0.003795027\\\\\n",
       "\\end{tabular}\n"
      ],
      "text/markdown": [
       "\n",
       "| <!--/--> | DATE | Open | High | Low | Close | Close_lead | close_lag | Close_lag | Return | Alvo1 | Alvo1_Bin | MA_Return | SD_Return | ZScore | MA_Close | RSL |\n",
       "|---|---|---|---|---|---|---|---|---|---|---|---|---|---|---|---|---|\n",
       "| 4306 | 2019-11-26   | 1.10115      | 1.10256      | 1.10071      | 1.10194      | 1.09989      | 1.10126      | 1.10126      |  0.06174745  | -0.18603554  | 0            | -0.032916297 | 0.1790719    |  0.52863541  | 1.103863     | -0.001741763 |\n",
       "| 4307 | 2019-11-27   | 1.10194      | 1.10246      | 1.09922      | 1.09989      | 1.10067      | 1.10194      | 1.10194      | -0.18603554  |  0.07091618  | 1            | -0.040261868 | 0.1831719    | -0.79582996  | 1.103417     | -0.003196133 |\n",
       "| 4308 | 2019-11-28   | 1.09987      | 1.10179      | 1.09986      | 1.10067      | 1.10150      | 1.09989      | 1.09989      |  0.07091618  |  0.07540861  | 1            | -0.025834568 | 0.1828137    |  0.52923144  | 1.103130     | -0.002230018 |\n",
       "| 4309 | 2019-11-29   | 1.10059      | 1.10282      | 1.09811      | 1.10150      | 1.10784      | 1.10067      | 1.10067      |  0.07540861  |  0.57557876  | 1            | -0.001440285 | 0.1688543    |  0.45511949  | 1.103113     | -0.001461924 |\n",
       "| 4310 | 2019-12-02   | 1.10229      | 1.10907      | 1.10029      | 1.10784      | 1.10809      | 1.10150      | 1.10150      |  0.57557876  |  0.02256644  | 1            |  0.028036773 | 0.2237496    |  2.44711922  | 1.103420     |  0.004005728 |\n",
       "| 4311 | 2019-12-03   | 1.10782      | 1.10934      | 1.10660      | 1.10809      | 1.10775      | 1.10784      | 1.10784      |  0.02256644  | -0.03068343  | 0            |  0.043741928 | 0.2136621    | -0.09910741  | 1.103901     |  0.003795027 |\n",
       "\n"
      ],
      "text/plain": [
       "     DATE       Open    High    Low     Close   Close_lead close_lag Close_lag\n",
       "4306 2019-11-26 1.10115 1.10256 1.10071 1.10194 1.09989    1.10126   1.10126  \n",
       "4307 2019-11-27 1.10194 1.10246 1.09922 1.09989 1.10067    1.10194   1.10194  \n",
       "4308 2019-11-28 1.09987 1.10179 1.09986 1.10067 1.10150    1.09989   1.09989  \n",
       "4309 2019-11-29 1.10059 1.10282 1.09811 1.10150 1.10784    1.10067   1.10067  \n",
       "4310 2019-12-02 1.10229 1.10907 1.10029 1.10784 1.10809    1.10150   1.10150  \n",
       "4311 2019-12-03 1.10782 1.10934 1.10660 1.10809 1.10775    1.10784   1.10784  \n",
       "     Return      Alvo1       Alvo1_Bin MA_Return    SD_Return ZScore     \n",
       "4306  0.06174745 -0.18603554 0         -0.032916297 0.1790719  0.52863541\n",
       "4307 -0.18603554  0.07091618 1         -0.040261868 0.1831719 -0.79582996\n",
       "4308  0.07091618  0.07540861 1         -0.025834568 0.1828137  0.52923144\n",
       "4309  0.07540861  0.57557876 1         -0.001440285 0.1688543  0.45511949\n",
       "4310  0.57557876  0.02256644 1          0.028036773 0.2237496  2.44711922\n",
       "4311  0.02256644 -0.03068343 0          0.043741928 0.2136621 -0.09910741\n",
       "     MA_Close RSL         \n",
       "4306 1.103863 -0.001741763\n",
       "4307 1.103417 -0.003196133\n",
       "4308 1.103130 -0.002230018\n",
       "4309 1.103113 -0.001461924\n",
       "4310 1.103420  0.004005728\n",
       "4311 1.103901  0.003795027"
      ]
     },
     "metadata": {},
     "output_type": "display_data"
    }
   ],
   "source": [
    "# Calculando o RSL\n",
    "\n",
    "EURUSD$MA_Close <- c(rep(NA, periodo_mm-1), runmean(EURUSD$Close,periodo_mm, alg=c(\"C\"), endrule=c(\"trim\")))\n",
    "EURUSD$RSL <- (EURUSD$Close/EURUSD$MA_Close-1)\n",
    "\n",
    "EURUSD <- na.omit(EURUSD)\n",
    "\n",
    "tail(EURUSD)"
   ]
  },
  {
   "cell_type": "code",
   "execution_count": 16,
   "metadata": {
    "vscode": {
     "languageId": "r"
    }
   },
   "outputs": [],
   "source": [
    "# Treinamento e teste - 2003-2008\n",
    "desenvolvimento <- EURUSD[1:1443,]"
   ]
  },
  {
   "cell_type": "code",
   "execution_count": 17,
   "metadata": {
    "vscode": {
     "languageId": "r"
    }
   },
   "outputs": [
    {
     "data": {
      "text/plain": [
       "Length  Class   Mode \n",
       "     0   NULL   NULL "
      ]
     },
     "metadata": {},
     "output_type": "display_data"
    }
   ],
   "source": [
    "summary(desenvolvimento$ZScoreQ)"
   ]
  },
  {
   "cell_type": "code",
   "execution_count": 18,
   "metadata": {
    "vscode": {
     "languageId": "r"
    }
   },
   "outputs": [
    {
     "data": {
      "text/html": [
       "<table>\n",
       "<thead><tr><th scope=col>ZScoreQ</th><th scope=col>Alvo1</th></tr></thead>\n",
       "<tbody>\n",
       "\t<tr><td>[-2.69,-1.61]   </td><td> -3.34965530    </td></tr>\n",
       "\t<tr><td>(-1.61,-1.27]   </td><td> -4.97776065    </td></tr>\n",
       "\t<tr><td>(-1.27,-1.02]   </td><td> -3.81975574    </td></tr>\n",
       "\t<tr><td>(-1.02,-0.84]   </td><td>  6.69581583    </td></tr>\n",
       "\t<tr><td>(-0.84,-0.675]  </td><td>  3.40152986    </td></tr>\n",
       "\t<tr><td>(-0.675,-0.501] </td><td>  4.06369720    </td></tr>\n",
       "\t<tr><td>(-0.501,-0.367] </td><td>  4.55802842    </td></tr>\n",
       "\t<tr><td>(-0.367,-0.237] </td><td> 10.15127320    </td></tr>\n",
       "\t<tr><td>(-0.237,-0.124] </td><td>  4.01065582    </td></tr>\n",
       "\t<tr><td>(-0.124,-0.0134]</td><td>  2.77089484    </td></tr>\n",
       "\t<tr><td>(-0.0134,0.126] </td><td>  0.01806588    </td></tr>\n",
       "\t<tr><td>(0.126,0.241]   </td><td>  3.52425196    </td></tr>\n",
       "\t<tr><td>(0.241,0.359]   </td><td>  0.06316880    </td></tr>\n",
       "\t<tr><td>(0.359,0.479]   </td><td>  7.31364014    </td></tr>\n",
       "\t<tr><td>(0.479,0.629]   </td><td>-13.04786848    </td></tr>\n",
       "\t<tr><td>(0.629,0.797]   </td><td>  1.23330998    </td></tr>\n",
       "\t<tr><td>(0.797,1.01]    </td><td>  4.11466754    </td></tr>\n",
       "\t<tr><td>(1.01,1.28]     </td><td> -9.91478639    </td></tr>\n",
       "\t<tr><td>(1.28,1.61]     </td><td> -2.15736805    </td></tr>\n",
       "\t<tr><td>(1.61,2.76]     </td><td>  3.20072414    </td></tr>\n",
       "</tbody>\n",
       "</table>\n"
      ],
      "text/latex": [
       "\\begin{tabular}{r|ll}\n",
       " ZScoreQ & Alvo1\\\\\n",
       "\\hline\n",
       "\t {[}-2.69,-1.61{]}    &  -3.34965530        \\\\\n",
       "\t (-1.61,-1.27{]}    &  -4.97776065      \\\\\n",
       "\t (-1.27,-1.02{]}    &  -3.81975574      \\\\\n",
       "\t (-1.02,-0.84{]}    &   6.69581583      \\\\\n",
       "\t (-0.84,-0.675{]}   &   3.40152986      \\\\\n",
       "\t (-0.675,-0.501{]}  &   4.06369720      \\\\\n",
       "\t (-0.501,-0.367{]}  &   4.55802842      \\\\\n",
       "\t (-0.367,-0.237{]}  &  10.15127320      \\\\\n",
       "\t (-0.237,-0.124{]}  &   4.01065582      \\\\\n",
       "\t (-0.124,-0.0134{]} &   2.77089484      \\\\\n",
       "\t (-0.0134,0.126{]}  &   0.01806588      \\\\\n",
       "\t (0.126,0.241{]}    &   3.52425196      \\\\\n",
       "\t (0.241,0.359{]}    &   0.06316880      \\\\\n",
       "\t (0.359,0.479{]}    &   7.31364014      \\\\\n",
       "\t (0.479,0.629{]}    & -13.04786848      \\\\\n",
       "\t (0.629,0.797{]}    &   1.23330998      \\\\\n",
       "\t (0.797,1.01{]}     &   4.11466754      \\\\\n",
       "\t (1.01,1.28{]}      &  -9.91478639      \\\\\n",
       "\t (1.28,1.61{]}      &  -2.15736805      \\\\\n",
       "\t (1.61,2.76{]}      &   3.20072414      \\\\\n",
       "\\end{tabular}\n"
      ],
      "text/markdown": [
       "\n",
       "| ZScoreQ | Alvo1 |\n",
       "|---|---|\n",
       "| [-2.69,-1.61]    |  -3.34965530     |\n",
       "| (-1.61,-1.27]    |  -4.97776065     |\n",
       "| (-1.27,-1.02]    |  -3.81975574     |\n",
       "| (-1.02,-0.84]    |   6.69581583     |\n",
       "| (-0.84,-0.675]   |   3.40152986     |\n",
       "| (-0.675,-0.501]  |   4.06369720     |\n",
       "| (-0.501,-0.367]  |   4.55802842     |\n",
       "| (-0.367,-0.237]  |  10.15127320     |\n",
       "| (-0.237,-0.124]  |   4.01065582     |\n",
       "| (-0.124,-0.0134] |   2.77089484     |\n",
       "| (-0.0134,0.126]  |   0.01806588     |\n",
       "| (0.126,0.241]    |   3.52425196     |\n",
       "| (0.241,0.359]    |   0.06316880     |\n",
       "| (0.359,0.479]    |   7.31364014     |\n",
       "| (0.479,0.629]    | -13.04786848     |\n",
       "| (0.629,0.797]    |   1.23330998     |\n",
       "| (0.797,1.01]     |   4.11466754     |\n",
       "| (1.01,1.28]      |  -9.91478639     |\n",
       "| (1.28,1.61]      |  -2.15736805     |\n",
       "| (1.61,2.76]      |   3.20072414     |\n",
       "\n"
      ],
      "text/plain": [
       "   ZScoreQ          Alvo1       \n",
       "1  [-2.69,-1.61]     -3.34965530\n",
       "2  (-1.61,-1.27]     -4.97776065\n",
       "3  (-1.27,-1.02]     -3.81975574\n",
       "4  (-1.02,-0.84]      6.69581583\n",
       "5  (-0.84,-0.675]     3.40152986\n",
       "6  (-0.675,-0.501]    4.06369720\n",
       "7  (-0.501,-0.367]    4.55802842\n",
       "8  (-0.367,-0.237]   10.15127320\n",
       "9  (-0.237,-0.124]    4.01065582\n",
       "10 (-0.124,-0.0134]   2.77089484\n",
       "11 (-0.0134,0.126]    0.01806588\n",
       "12 (0.126,0.241]      3.52425196\n",
       "13 (0.241,0.359]      0.06316880\n",
       "14 (0.359,0.479]      7.31364014\n",
       "15 (0.479,0.629]    -13.04786848\n",
       "16 (0.629,0.797]      1.23330998\n",
       "17 (0.797,1.01]       4.11466754\n",
       "18 (1.01,1.28]       -9.91478639\n",
       "19 (1.28,1.61]       -2.15736805\n",
       "20 (1.61,2.76]        3.20072414"
      ]
     },
     "metadata": {},
     "output_type": "display_data"
    }
   ],
   "source": [
    "# Será que o z-score ajudar a encontrar regioes mais rentaveis?\n",
    "\n",
    "q <- quantile(desenvolvimento$ZScore, seq(0, 1, by = 0.05))\n",
    "\n",
    "desenvolvimento$ZScoreQ <- cut(desenvolvimento$ZScore, q, include.lowest = TRUE)\n",
    "\n",
    "Returs_ZScore <- aggregate(Alvo1 ~ ZScoreQ, data = desenvolvimento, FUN = sum)\n",
    "Returs_ZScore"
   ]
  },
  {
   "cell_type": "code",
   "execution_count": 19,
   "metadata": {
    "vscode": {
     "languageId": "r"
    }
   },
   "outputs": [
    {
     "data": {
      "text/html": [
       "<table>\n",
       "<thead><tr><th scope=col>RSLQ</th><th scope=col>Alvo1</th></tr></thead>\n",
       "<tbody>\n",
       "\t<tr><td>[-0.0596,-0.0151] </td><td> 2.9164169        </td></tr>\n",
       "\t<tr><td>(-0.0151,-0.00953]</td><td>-6.1754630        </td></tr>\n",
       "\t<tr><td>(-0.00953,-0.0053]</td><td> 7.0181737        </td></tr>\n",
       "\t<tr><td>(-0.0053,-0.00213]</td><td> 3.2850735        </td></tr>\n",
       "\t<tr><td>(-0.00213,0.00126]</td><td> 0.4238728        </td></tr>\n",
       "\t<tr><td>(0.00126,0.0043]  </td><td> 6.9645742        </td></tr>\n",
       "\t<tr><td>(0.0043,0.00777]  </td><td>-9.0752625        </td></tr>\n",
       "\t<tr><td>(0.00777,0.0115]  </td><td>10.6524868        </td></tr>\n",
       "\t<tr><td>(0.0115,0.0158]   </td><td> 5.4880128        </td></tr>\n",
       "\t<tr><td>(0.0158,0.0388]   </td><td>-3.6453563        </td></tr>\n",
       "</tbody>\n",
       "</table>\n"
      ],
      "text/latex": [
       "\\begin{tabular}{r|ll}\n",
       " RSLQ & Alvo1\\\\\n",
       "\\hline\n",
       "\t {[}-0.0596,-0.0151{]}  &  2.9164169            \\\\\n",
       "\t (-0.0151,-0.00953{]} & -6.1754630          \\\\\n",
       "\t (-0.00953,-0.0053{]} &  7.0181737          \\\\\n",
       "\t (-0.0053,-0.00213{]} &  3.2850735          \\\\\n",
       "\t (-0.00213,0.00126{]} &  0.4238728          \\\\\n",
       "\t (0.00126,0.0043{]}   &  6.9645742          \\\\\n",
       "\t (0.0043,0.00777{]}   & -9.0752625          \\\\\n",
       "\t (0.00777,0.0115{]}   & 10.6524868          \\\\\n",
       "\t (0.0115,0.0158{]}    &  5.4880128          \\\\\n",
       "\t (0.0158,0.0388{]}    & -3.6453563          \\\\\n",
       "\\end{tabular}\n"
      ],
      "text/markdown": [
       "\n",
       "| RSLQ | Alvo1 |\n",
       "|---|---|\n",
       "| [-0.0596,-0.0151]  |  2.9164169         |\n",
       "| (-0.0151,-0.00953] | -6.1754630         |\n",
       "| (-0.00953,-0.0053] |  7.0181737         |\n",
       "| (-0.0053,-0.00213] |  3.2850735         |\n",
       "| (-0.00213,0.00126] |  0.4238728         |\n",
       "| (0.00126,0.0043]   |  6.9645742         |\n",
       "| (0.0043,0.00777]   | -9.0752625         |\n",
       "| (0.00777,0.0115]   | 10.6524868         |\n",
       "| (0.0115,0.0158]    |  5.4880128         |\n",
       "| (0.0158,0.0388]    | -3.6453563         |\n",
       "\n"
      ],
      "text/plain": [
       "   RSLQ               Alvo1     \n",
       "1  [-0.0596,-0.0151]   2.9164169\n",
       "2  (-0.0151,-0.00953] -6.1754630\n",
       "3  (-0.00953,-0.0053]  7.0181737\n",
       "4  (-0.0053,-0.00213]  3.2850735\n",
       "5  (-0.00213,0.00126]  0.4238728\n",
       "6  (0.00126,0.0043]    6.9645742\n",
       "7  (0.0043,0.00777]   -9.0752625\n",
       "8  (0.00777,0.0115]   10.6524868\n",
       "9  (0.0115,0.0158]     5.4880128\n",
       "10 (0.0158,0.0388]    -3.6453563"
      ]
     },
     "metadata": {},
     "output_type": "display_data"
    }
   ],
   "source": [
    "# Sera que o RSL ajuda a encontrar regioes mais rentaveis?\n",
    "\n",
    "q <- quantile(desenvolvimento$RSL, seq(0,1, by = 0.1))\n",
    "desenvolvimento$RSLQ <- cut(desenvolvimento$RSL, q, include.lowest = TRUE)\n",
    "\n",
    "Returns_RSL <- aggregate(Alvo1 ~ RSLQ, data = desenvolvimento, FUN =sum)\n",
    "Returns_RSL"
   ]
  },
  {
   "cell_type": "markdown",
   "metadata": {},
   "source": [
    "-----------------------------------------------------------------\n",
    "\n",
    "### Construindo mais variaveis p/ o modelo"
   ]
  },
  {
   "cell_type": "code",
   "execution_count": 21,
   "metadata": {
    "vscode": {
     "languageId": "r"
    }
   },
   "outputs": [],
   "source": [
    "# Criando os indicadores técnicos \n",
    "\n",
    "EURUSD$RSI <- RSI(EURUSD$Close, 14, \"SMA\")\n",
    "EURUSD$RSI2 <- RSI(EURUSD$Close, 2, \"SMA\")\n",
    "EURUSD$CCI <- CCI(EURUSD$Close, 14)\n",
    "EURUSD$MACD <- MACD(EURUSD$Close, 12, 26, 9, \"SMA\")\n",
    "EURUSD$MACD <- EURUSD$MACD[,1] - EURUSD$MACD[,2]\n",
    "EURUSD$Bbands <- BBands(EURUSD$Close, 20, \"SMA\", 2)[,4]"
   ]
  },
  {
   "cell_type": "code",
   "execution_count": 32,
   "metadata": {
    "vscode": {
     "languageId": "r"
    }
   },
   "outputs": [
    {
     "data": {
      "text/html": [
       "<ol class=list-inline>\n",
       "\t<li>'DATE'</li>\n",
       "\t<li>'Open'</li>\n",
       "\t<li>'High'</li>\n",
       "\t<li>'Low'</li>\n",
       "\t<li>'Close'</li>\n",
       "\t<li>'Close_lead'</li>\n",
       "\t<li>'close_lag'</li>\n",
       "\t<li>'Close_lag'</li>\n",
       "\t<li>'Return'</li>\n",
       "\t<li>'Alvo1'</li>\n",
       "\t<li>'Alvo1_Bin'</li>\n",
       "\t<li>'MA_Return'</li>\n",
       "\t<li>'SD_Return'</li>\n",
       "\t<li>'ZScore'</li>\n",
       "\t<li>'MA_Close'</li>\n",
       "\t<li>'RSL'</li>\n",
       "\t<li>'RSI'</li>\n",
       "\t<li>'RSI2'</li>\n",
       "\t<li>'CCI'</li>\n",
       "\t<li>'MACD'</li>\n",
       "\t<li>'Bbands'</li>\n",
       "\t<li>'ZScoreBin'</li>\n",
       "\t<li>'RSIH'</li>\n",
       "\t<li>'RSIL'</li>\n",
       "\t<li>'RSI2H'</li>\n",
       "\t<li>'RSI2L'</li>\n",
       "\t<li>'CCIH'</li>\n",
       "\t<li>'CCIL'</li>\n",
       "\t<li>'MACDH'</li>\n",
       "\t<li>'MACDL'</li>\n",
       "\t<li>'RSLBin'</li>\n",
       "</ol>\n"
      ],
      "text/latex": [
       "\\begin{enumerate*}\n",
       "\\item 'DATE'\n",
       "\\item 'Open'\n",
       "\\item 'High'\n",
       "\\item 'Low'\n",
       "\\item 'Close'\n",
       "\\item 'Close\\_lead'\n",
       "\\item 'close\\_lag'\n",
       "\\item 'Close\\_lag'\n",
       "\\item 'Return'\n",
       "\\item 'Alvo1'\n",
       "\\item 'Alvo1\\_Bin'\n",
       "\\item 'MA\\_Return'\n",
       "\\item 'SD\\_Return'\n",
       "\\item 'ZScore'\n",
       "\\item 'MA\\_Close'\n",
       "\\item 'RSL'\n",
       "\\item 'RSI'\n",
       "\\item 'RSI2'\n",
       "\\item 'CCI'\n",
       "\\item 'MACD'\n",
       "\\item 'Bbands'\n",
       "\\item 'ZScoreBin'\n",
       "\\item 'RSIH'\n",
       "\\item 'RSIL'\n",
       "\\item 'RSI2H'\n",
       "\\item 'RSI2L'\n",
       "\\item 'CCIH'\n",
       "\\item 'CCIL'\n",
       "\\item 'MACDH'\n",
       "\\item 'MACDL'\n",
       "\\item 'RSLBin'\n",
       "\\end{enumerate*}\n"
      ],
      "text/markdown": [
       "1. 'DATE'\n",
       "2. 'Open'\n",
       "3. 'High'\n",
       "4. 'Low'\n",
       "5. 'Close'\n",
       "6. 'Close_lead'\n",
       "7. 'close_lag'\n",
       "8. 'Close_lag'\n",
       "9. 'Return'\n",
       "10. 'Alvo1'\n",
       "11. 'Alvo1_Bin'\n",
       "12. 'MA_Return'\n",
       "13. 'SD_Return'\n",
       "14. 'ZScore'\n",
       "15. 'MA_Close'\n",
       "16. 'RSL'\n",
       "17. 'RSI'\n",
       "18. 'RSI2'\n",
       "19. 'CCI'\n",
       "20. 'MACD'\n",
       "21. 'Bbands'\n",
       "22. 'ZScoreBin'\n",
       "23. 'RSIH'\n",
       "24. 'RSIL'\n",
       "25. 'RSI2H'\n",
       "26. 'RSI2L'\n",
       "27. 'CCIH'\n",
       "28. 'CCIL'\n",
       "29. 'MACDH'\n",
       "30. 'MACDL'\n",
       "31. 'RSLBin'\n",
       "\n",
       "\n"
      ],
      "text/plain": [
       " [1] \"DATE\"       \"Open\"       \"High\"       \"Low\"        \"Close\"     \n",
       " [6] \"Close_lead\" \"close_lag\"  \"Close_lag\"  \"Return\"     \"Alvo1\"     \n",
       "[11] \"Alvo1_Bin\"  \"MA_Return\"  \"SD_Return\"  \"ZScore\"     \"MA_Close\"  \n",
       "[16] \"RSL\"        \"RSI\"        \"RSI2\"       \"CCI\"        \"MACD\"      \n",
       "[21] \"Bbands\"     \"ZScoreBin\"  \"RSIH\"       \"RSIL\"       \"RSI2H\"     \n",
       "[26] \"RSI2L\"      \"CCIH\"       \"CCIL\"       \"MACDH\"      \"MACDL\"     \n",
       "[31] \"RSLBin\"    "
      ]
     },
     "metadata": {},
     "output_type": "display_data"
    }
   ],
   "source": [
    "# Criando as variaveis\n",
    "\n",
    "EURUSD$ZScoreBin <- ifelse((EURUSD$ZScore <- -1.02 | (EURUSD$ZScore > 0.476 & EURUSD$ZScore <= 1.62))\n",
    "    , 1, 0)\n",
    "EURUSD$RSLBin <- ifelse((\n",
    "    (EURUSD$RSL > -0.00956 & EURUSD$RSL <= -0.00523)|\n",
    "    (EURUSD$RSL > 0.00981 & EURUSD$RSL <= 0.0135)|\n",
    "    (EURUSD$RSL > 0.00149 & EURUSD$RSL <= 0.00438)\n",
    "    )\n",
    "    , 1, 0)\n",
    "\n",
    "EURUSD$RSIH <- ifelse(EURUSD$RSI > 70, 1, 0)\n",
    "EURUSD$RSIL <- ifelse(EURUSD$RSI < 30, 1, 0)\n",
    "EURUSD$RSI2H <- ifelse(EURUSD$RSI2 > 70, 1, 0)\n",
    "EURUSD$RSI2L <- ifelse(EURUSD$RSI < 30, 1, 0)\n",
    "EURUSD$CCIH <- ifelse(EURUSD$CCI > 120, 1, 0)\n",
    "EURUSD$CCIL <- ifelse(EURUSD$CCI < -120, 1, 0)\n",
    "EURUSD$MACDH <- ifelse(EURUSD$MACD > 0.5, 1, 0)\n",
    "EURUSD$MACDL <- ifelse(EURUSD$MACD < -0.5, 1, 0)\n",
    "\n",
    "EURUSD <- na.omit(EURUSD)\n",
    "\n",
    "names(EURUSD)\n"
   ]
  },
  {
   "cell_type": "markdown",
   "metadata": {},
   "source": [
    "---------------------------------------------------------------------\n",
    "\n",
    "### Treinamento do modelo"
   ]
  },
  {
   "cell_type": "code",
   "execution_count": 44,
   "metadata": {
    "vscode": {
     "languageId": "r"
    }
   },
   "outputs": [
    {
     "data": {
      "text/html": [
       "<table>\n",
       "<thead><tr><th></th><th scope=col>DATE</th><th scope=col>Open</th><th scope=col>High</th><th scope=col>Low</th><th scope=col>Close</th><th scope=col>Close_lead</th><th scope=col>close_lag</th><th scope=col>Close_lag</th><th scope=col>Return</th><th scope=col>Alvo1</th><th scope=col>...</th><th scope=col>ZScoreBin</th><th scope=col>RSIH</th><th scope=col>RSIL</th><th scope=col>RSI2H</th><th scope=col>RSI2L</th><th scope=col>CCIH</th><th scope=col>CCIL</th><th scope=col>MACDH</th><th scope=col>MACDL</th><th scope=col>RSLBin</th></tr></thead>\n",
       "<tbody>\n",
       "\t<tr><th scope=row>1486</th><td>2009-01-21</td><td>1.29047   </td><td>1.30855   </td><td>1.28235   </td><td>1.30215   </td><td>1.30000   </td><td>1.29037   </td><td>1.29037   </td><td> 0.9129165</td><td>-0.1651115</td><td>...       </td><td>1         </td><td>0         </td><td>1         </td><td>0         </td><td>1         </td><td>0         </td><td>0         </td><td>0         </td><td>1         </td><td>0         </td></tr>\n",
       "\t<tr><th scope=row>1487</th><td>2009-01-22</td><td>1.30210   </td><td>1.30820   </td><td>1.29085   </td><td>1.30000   </td><td>1.29725   </td><td>1.30215   </td><td>1.30215   </td><td>-0.1651115</td><td>-0.2115385</td><td>...       </td><td>1         </td><td>0         </td><td>1         </td><td>1         </td><td>1         </td><td>0         </td><td>0         </td><td>0         </td><td>1         </td><td>0         </td></tr>\n",
       "\t<tr><th scope=row>1488</th><td>2009-01-23</td><td>1.29990   </td><td>1.30345   </td><td>1.27675   </td><td>1.29725   </td><td>1.31875   </td><td>1.30000   </td><td>1.30000   </td><td>-0.2115385</td><td> 1.6573521</td><td>...       </td><td>1         </td><td>0         </td><td>1         </td><td>0         </td><td>1         </td><td>0         </td><td>0         </td><td>0         </td><td>1         </td><td>0         </td></tr>\n",
       "\t<tr><th scope=row>1489</th><td>2009-01-26</td><td>1.29621   </td><td>1.32070   </td><td>1.28610   </td><td>1.31875   </td><td>1.31595   </td><td>1.29725   </td><td>1.29725   </td><td> 1.6573521</td><td>-0.2123223</td><td>...       </td><td>1         </td><td>0         </td><td>0         </td><td>1         </td><td>0         </td><td>0         </td><td>0         </td><td>0         </td><td>1         </td><td>0         </td></tr>\n",
       "\t<tr><th scope=row>1490</th><td>2009-01-27</td><td>1.31875   </td><td>1.33290   </td><td>1.31165   </td><td>1.31595   </td><td>1.31650   </td><td>1.31875   </td><td>1.31875   </td><td>-0.2123223</td><td> 0.0417949</td><td>...       </td><td>1         </td><td>0         </td><td>0         </td><td>1         </td><td>0         </td><td>0         </td><td>0         </td><td>0         </td><td>0         </td><td>0         </td></tr>\n",
       "\t<tr><th scope=row>1491</th><td>2009-01-28</td><td>1.31595   </td><td>1.33230   </td><td>1.31015   </td><td>1.31650   </td><td>1.29541   </td><td>1.31595   </td><td>1.31595   </td><td> 0.0417949</td><td>-1.6019749</td><td>...       </td><td>1         </td><td>0         </td><td>0         </td><td>0         </td><td>0         </td><td>0         </td><td>0         </td><td>0         </td><td>0         </td><td>0         </td></tr>\n",
       "</tbody>\n",
       "</table>\n"
      ],
      "text/latex": [
       "\\begin{tabular}{r|lllllllllllllllllllllllllllllll}\n",
       "  & DATE & Open & High & Low & Close & Close\\_lead & close\\_lag & Close\\_lag & Return & Alvo1 & ... & ZScoreBin & RSIH & RSIL & RSI2H & RSI2L & CCIH & CCIL & MACDH & MACDL & RSLBin\\\\\n",
       "\\hline\n",
       "\t1486 & 2009-01-21 & 1.29047    & 1.30855    & 1.28235    & 1.30215    & 1.30000    & 1.29037    & 1.29037    &  0.9129165 & -0.1651115 & ...        & 1          & 0          & 1          & 0          & 1          & 0          & 0          & 0          & 1          & 0         \\\\\n",
       "\t1487 & 2009-01-22 & 1.30210    & 1.30820    & 1.29085    & 1.30000    & 1.29725    & 1.30215    & 1.30215    & -0.1651115 & -0.2115385 & ...        & 1          & 0          & 1          & 1          & 1          & 0          & 0          & 0          & 1          & 0         \\\\\n",
       "\t1488 & 2009-01-23 & 1.29990    & 1.30345    & 1.27675    & 1.29725    & 1.31875    & 1.30000    & 1.30000    & -0.2115385 &  1.6573521 & ...        & 1          & 0          & 1          & 0          & 1          & 0          & 0          & 0          & 1          & 0         \\\\\n",
       "\t1489 & 2009-01-26 & 1.29621    & 1.32070    & 1.28610    & 1.31875    & 1.31595    & 1.29725    & 1.29725    &  1.6573521 & -0.2123223 & ...        & 1          & 0          & 0          & 1          & 0          & 0          & 0          & 0          & 1          & 0         \\\\\n",
       "\t1490 & 2009-01-27 & 1.31875    & 1.33290    & 1.31165    & 1.31595    & 1.31650    & 1.31875    & 1.31875    & -0.2123223 &  0.0417949 & ...        & 1          & 0          & 0          & 1          & 0          & 0          & 0          & 0          & 0          & 0         \\\\\n",
       "\t1491 & 2009-01-28 & 1.31595    & 1.33230    & 1.31015    & 1.31650    & 1.29541    & 1.31595    & 1.31595    &  0.0417949 & -1.6019749 & ...        & 1          & 0          & 0          & 0          & 0          & 0          & 0          & 0          & 0          & 0         \\\\\n",
       "\\end{tabular}\n"
      ],
      "text/markdown": [
       "\n",
       "| <!--/--> | DATE | Open | High | Low | Close | Close_lead | close_lag | Close_lag | Return | Alvo1 | ... | ZScoreBin | RSIH | RSIL | RSI2H | RSI2L | CCIH | CCIL | MACDH | MACDL | RSLBin |\n",
       "|---|---|---|---|---|---|---|---|---|---|---|---|---|---|---|---|---|---|---|---|---|---|\n",
       "| 1486 | 2009-01-21 | 1.29047    | 1.30855    | 1.28235    | 1.30215    | 1.30000    | 1.29037    | 1.29037    |  0.9129165 | -0.1651115 | ...        | 1          | 0          | 1          | 0          | 1          | 0          | 0          | 0          | 1          | 0          |\n",
       "| 1487 | 2009-01-22 | 1.30210    | 1.30820    | 1.29085    | 1.30000    | 1.29725    | 1.30215    | 1.30215    | -0.1651115 | -0.2115385 | ...        | 1          | 0          | 1          | 1          | 1          | 0          | 0          | 0          | 1          | 0          |\n",
       "| 1488 | 2009-01-23 | 1.29990    | 1.30345    | 1.27675    | 1.29725    | 1.31875    | 1.30000    | 1.30000    | -0.2115385 |  1.6573521 | ...        | 1          | 0          | 1          | 0          | 1          | 0          | 0          | 0          | 1          | 0          |\n",
       "| 1489 | 2009-01-26 | 1.29621    | 1.32070    | 1.28610    | 1.31875    | 1.31595    | 1.29725    | 1.29725    |  1.6573521 | -0.2123223 | ...        | 1          | 0          | 0          | 1          | 0          | 0          | 0          | 0          | 1          | 0          |\n",
       "| 1490 | 2009-01-27 | 1.31875    | 1.33290    | 1.31165    | 1.31595    | 1.31650    | 1.31875    | 1.31875    | -0.2123223 |  0.0417949 | ...        | 1          | 0          | 0          | 1          | 0          | 0          | 0          | 0          | 0          | 0          |\n",
       "| 1491 | 2009-01-28 | 1.31595    | 1.33230    | 1.31015    | 1.31650    | 1.29541    | 1.31595    | 1.31595    |  0.0417949 | -1.6019749 | ...        | 1          | 0          | 0          | 0          | 0          | 0          | 0          | 0          | 0          | 0          |\n",
       "\n"
      ],
      "text/plain": [
       "     DATE       Open    High    Low     Close   Close_lead close_lag Close_lag\n",
       "1486 2009-01-21 1.29047 1.30855 1.28235 1.30215 1.30000    1.29037   1.29037  \n",
       "1487 2009-01-22 1.30210 1.30820 1.29085 1.30000 1.29725    1.30215   1.30215  \n",
       "1488 2009-01-23 1.29990 1.30345 1.27675 1.29725 1.31875    1.30000   1.30000  \n",
       "1489 2009-01-26 1.29621 1.32070 1.28610 1.31875 1.31595    1.29725   1.29725  \n",
       "1490 2009-01-27 1.31875 1.33290 1.31165 1.31595 1.31650    1.31875   1.31875  \n",
       "1491 2009-01-28 1.31595 1.33230 1.31015 1.31650 1.29541    1.31595   1.31595  \n",
       "     Return     Alvo1      ... ZScoreBin RSIH RSIL RSI2H RSI2L CCIH CCIL MACDH\n",
       "1486  0.9129165 -0.1651115 ... 1         0    1    0     1     0    0    0    \n",
       "1487 -0.1651115 -0.2115385 ... 1         0    1    1     1     0    0    0    \n",
       "1488 -0.2115385  1.6573521 ... 1         0    1    0     1     0    0    0    \n",
       "1489  1.6573521 -0.2123223 ... 1         0    0    1     0     0    0    0    \n",
       "1490 -0.2123223  0.0417949 ... 1         0    0    1     0     0    0    0    \n",
       "1491  0.0417949 -1.6019749 ... 1         0    0    0     0     0    0    0    \n",
       "     MACDL RSLBin\n",
       "1486 1     0     \n",
       "1487 1     0     \n",
       "1488 1     0     \n",
       "1489 1     0     \n",
       "1490 0     0     \n",
       "1491 0     0     "
      ]
     },
     "metadata": {},
     "output_type": "display_data"
    }
   ],
   "source": [
    "# Treinamento e teste - 2003-2008\n",
    "desenvolvimento <- EURUSD[1:1443,]\n",
    "\n",
    "# Validação 2009-2019\n",
    "validacao <- EURUSD[1444:dim(EURUSD)[1],]\n",
    "\n",
    "tail(desenvolvimento)"
   ]
  },
  {
   "cell_type": "code",
   "execution_count": 45,
   "metadata": {
    "vscode": {
     "languageId": "r"
    }
   },
   "outputs": [
    {
     "data": {
      "text/html": [
       "<ol class=list-inline>\n",
       "\t<li>1011</li>\n",
       "\t<li>31</li>\n",
       "</ol>\n"
      ],
      "text/latex": [
       "\\begin{enumerate*}\n",
       "\\item 1011\n",
       "\\item 31\n",
       "\\end{enumerate*}\n"
      ],
      "text/markdown": [
       "1. 1011\n",
       "2. 31\n",
       "\n",
       "\n"
      ],
      "text/plain": [
       "[1] 1011   31"
      ]
     },
     "metadata": {},
     "output_type": "display_data"
    },
    {
     "data": {
      "text/html": [
       "<ol class=list-inline>\n",
       "\t<li>432</li>\n",
       "\t<li>31</li>\n",
       "</ol>\n"
      ],
      "text/latex": [
       "\\begin{enumerate*}\n",
       "\\item 432\n",
       "\\item 31\n",
       "\\end{enumerate*}\n"
      ],
      "text/markdown": [
       "1. 432\n",
       "2. 31\n",
       "\n",
       "\n"
      ],
      "text/plain": [
       "[1] 432  31"
      ]
     },
     "metadata": {},
     "output_type": "display_data"
    }
   ],
   "source": [
    "set.seed(42)\n",
    "inTrain <- createDataPartition(y = desenvolvimento$Alvo1_Bin, p = 0.7, list= FALSE)\n",
    "training <- desenvolvimento[inTrain,]\n",
    "testing <- desenvolvimento[-inTrain,]\n",
    "dim(training); dim(testing)"
   ]
  },
  {
   "cell_type": "code",
   "execution_count": 46,
   "metadata": {
    "vscode": {
     "languageId": "r"
    }
   },
   "outputs": [
    {
     "data": {
      "text/plain": [
       "\n",
       "Call:\n",
       "glm(formula = Alvo1_Bin ~ ZScoreBin + RSLBin + RSIH + RSIL + \n",
       "    RSI2H + RSI2L + Bbands + MACDH + MACDL + CCIH + CCIL, family = binomial(link = \"logit\"), \n",
       "    data = training)\n",
       "\n",
       "Deviance Residuals: \n",
       "    Min       1Q   Median       3Q      Max  \n",
       "-1.4882  -1.1436   0.9352   1.1239   1.6235  \n",
       "\n",
       "Coefficients: (2 not defined because of singularities)\n",
       "            Estimate Std. Error z value Pr(>|z|)   \n",
       "(Intercept)  0.16083    0.19719   0.816  0.41475   \n",
       "ZScoreBin         NA         NA      NA       NA   \n",
       "RSLBin       0.28174    0.14244   1.978  0.04793 * \n",
       "RSIH         0.08815    0.20319   0.434  0.66441   \n",
       "RSIL         0.24092    0.25819   0.933  0.35076   \n",
       "RSI2H       -0.41895    0.15354  -2.729  0.00636 **\n",
       "RSI2L             NA         NA      NA       NA   \n",
       "Bbands       0.08063    0.34943   0.231  0.81750   \n",
       "MACDH       -0.60329    0.23289  -2.590  0.00958 **\n",
       "MACDL       -0.49551    0.23793  -2.083  0.03729 * \n",
       "CCIH        -0.21082    0.23241  -0.907  0.36436   \n",
       "CCIL        -0.03236    0.24420  -0.133  0.89458   \n",
       "---\n",
       "Signif. codes:  0 '***' 0.001 '**' 0.01 '*' 0.05 '.' 0.1 ' ' 1\n",
       "\n",
       "(Dispersion parameter for binomial family taken to be 1)\n",
       "\n",
       "    Null deviance: 1401.5  on 1010  degrees of freedom\n",
       "Residual deviance: 1375.3  on 1001  degrees of freedom\n",
       "AIC: 1395.3\n",
       "\n",
       "Number of Fisher Scoring iterations: 4\n"
      ]
     },
     "metadata": {},
     "output_type": "display_data"
    }
   ],
   "source": [
    "# Regressão Logística\n",
    "\n",
    "modelo1 <- glm(Alvo1_Bin ~ ZScoreBin + RSLBin + RSIH + RSIL + RSI2H + RSI2L + Bbands + MACDH + MACDL + CCIH + CCIL,\n",
    "                 data = training, family = binomial(link = 'logit'))  \n",
    "\n",
    "summary(modelo1)"
   ]
  },
  {
   "cell_type": "markdown",
   "metadata": {},
   "source": [
    "------------------------------------------------------------------\n",
    "\n",
    "### Avaliação do modelo 1 - Teste"
   ]
  },
  {
   "cell_type": "code",
   "execution_count": 47,
   "metadata": {
    "vscode": {
     "languageId": "r"
    }
   },
   "outputs": [
    {
     "data": {
      "text/plain": [
       "\n",
       "Call:  glm(formula = Alvo1_Bin ~ ZScoreBin + RSLBin + RSIH + RSIL + \n",
       "    RSI2H + RSI2L + Bbands + MACDH + MACDL + CCIH + CCIL, family = binomial(link = \"logit\"), \n",
       "    data = training)\n",
       "\n",
       "Coefficients:\n",
       "(Intercept)    ZScoreBin       RSLBin         RSIH         RSIL        RSI2H  \n",
       "    0.16083           NA      0.28174      0.08815      0.24092     -0.41895  \n",
       "      RSI2L       Bbands        MACDH        MACDL         CCIH         CCIL  \n",
       "         NA      0.08063     -0.60329     -0.49551     -0.21082     -0.03236  \n",
       "\n",
       "Degrees of Freedom: 1010 Total (i.e. Null);  1001 Residual\n",
       "Null Deviance:\t    1401 \n",
       "Residual Deviance: 1375 \tAIC: 1395"
      ]
     },
     "metadata": {},
     "output_type": "display_data"
    }
   ],
   "source": [
    "modelo1"
   ]
  },
  {
   "cell_type": "code",
   "execution_count": 48,
   "metadata": {
    "vscode": {
     "languageId": "r"
    }
   },
   "outputs": [
    {
     "name": "stderr",
     "output_type": "stream",
     "text": [
      "Warning message in predict.lm(object, newdata, se.fit, scale = 1, type = if (type == :\n",
      "\"prediction from a rank-deficient fit may be misleading\""
     ]
    },
    {
     "data": {
      "text/html": [
       "0.54"
      ],
      "text/latex": [
       "0.54"
      ],
      "text/markdown": [
       "0.54"
      ],
      "text/plain": [
       "[1] 0.54"
      ]
     },
     "metadata": {},
     "output_type": "display_data"
    },
    {
     "data": {
      "text/html": [
       "0.08"
      ],
      "text/latex": [
       "0.08"
      ],
      "text/markdown": [
       "0.08"
      ],
      "text/plain": [
       "[1] 0.08"
      ]
     },
     "metadata": {},
     "output_type": "display_data"
    },
    {
     "data": {
      "image/png": "[encoded data removed]",
      "text/plain": [
       "Plot with title \"Area Under the Curve\""
      ]
     },
     "metadata": {},
     "output_type": "display_data"
    }
   ],
   "source": [
    "# Plota a AUC\n",
    "\n",
    "probabilidades <- predict(modelo1, type = 'response', testing) \n",
    "modelo1_data <- prediction(probabilidades, testing$Alvo1_Bin)\n",
    "plot(performance(modelo1_data, \"tpr\", \"fpr\"), col = \"red\", main = \"Area Under the Curve\")\n",
    "abline(0,1, lty = 8, col = \"grey\")\n",
    "\n",
    "# AUC\n",
    "auc_rdock <- performance(modelo1_data, \"auc\")\n",
    "auc.area_rdock <- slot(auc_rdock, \"y.values\")[[1]]\n",
    "round(auc.area_rdock, 2)\n",
    "\n",
    "# Gini\n",
    "gini_fin_test <- 2*auc.area_rdock-1\n",
    "round(gini_fin_test, 2)"
   ]
  },
  {
   "cell_type": "code",
   "execution_count": 49,
   "metadata": {
    "vscode": {
     "languageId": "r"
    }
   },
   "outputs": [
    {
     "data": {
      "text/plain": [
       "               \n",
       "classe           0  1\n",
       "  (0.269,0.408] 35 29\n",
       "  (0.408,0.444] 35 30\n",
       "  (0.444,0.477] 28 36\n",
       "  (0.477,0.531] 31 34\n",
       "  (0.531,0.55]  27 38\n",
       "  (0.55,0.613]  29 35"
      ]
     },
     "metadata": {},
     "output_type": "display_data"
    }
   ],
   "source": [
    "# Ordenação por classe de score\n",
    "\n",
    "classe <- cut(probabilidades, quantile(probabilidades, seq(0,1,0.15)))\n",
    "\n",
    "table(classe, testing$Alvo1_Bin)"
   ]
  },
  {
   "cell_type": "code",
   "execution_count": 50,
   "metadata": {
    "vscode": {
     "languageId": "r"
    }
   },
   "outputs": [],
   "source": [
    "corte_low <- 0.396\n",
    "corte_up <- 0.606"
   ]
  },
  {
   "cell_type": "markdown",
   "metadata": {},
   "source": [
    "-----------------------------------------------------------------\n",
    "\n",
    "### Avaliação da Performance"
   ]
  },
  {
   "cell_type": "code",
   "execution_count": 51,
   "metadata": {
    "vscode": {
     "languageId": "r"
    }
   },
   "outputs": [
    {
     "name": "stderr",
     "output_type": "stream",
     "text": [
      "Warning message in predict.lm(object, newdata, se.fit, scale = 1, type = if (type == :\n",
      "\"prediction from a rank-deficient fit may be misleading\"Warning message in predict.lm(object, newdata, se.fit, scale = 1, type = if (type == :\n",
      "\"prediction from a rank-deficient fit may be misleading\""
     ]
    },
    {
     "data": {
      "image/png": "[encoded data removed]",
      "text/plain": [
       "Plot with title \"Base de Teste\""
      ]
     },
     "metadata": {},
     "output_type": "display_data"
    },
    {
     "data": {
      "image/png": "[encoded data removed]",
      "text/plain": [
       "Plot with title \"Base de Validaçao\""
      ]
     },
     "metadata": {},
     "output_type": "display_data"
    }
   ],
   "source": [
    "par(mfrow=c(1,1))\n",
    "\n",
    "# Custos operacionais\n",
    "custo_op <- 0.01 # Em percentual - No forex é realmente muito baixo.\n",
    "\n",
    "# Teste\n",
    "testing$predicao <- predict(modelo1, type='response',testing) \n",
    "\n",
    "retorno_BH <- ifelse(testing$Return > 0, testing$Return, testing$Return)\n",
    "retorno_BH_acumulado <- cumsum(retorno_BH)\n",
    "\n",
    "retorno_modelo1 <- ifelse(testing$predicao > corte_up, testing$Alvo1 - custo_op,\n",
    "                          ifelse(testing$predicao < corte_low, -1*testing$Alvo1 - custo_op,0))\n",
    "\n",
    "retorno_modelo1_acumulado <- cumsum(retorno_modelo1)\n",
    "\n",
    "\n",
    "plot(retorno_modelo1_acumulado, type = \"l\", col = \"black\", lwd = 2,\n",
    "     main = \"Base de Teste\",\n",
    "     xlab = \"2006 - 2008\",\n",
    "     ylab = \"Retorno em %\",\n",
    "     ylim = c(-20,80))\n",
    "lines(retorno_BH_acumulado,col = \"blue\", lwd = 2)\n",
    "\n",
    "legend(1, 75, legend = c(\"RegLog\",\"B&H\"),\n",
    "       col = c(\"black\",\"blue\"), lty = 1:1, cex = 0.8)\n",
    "\n",
    "\n",
    "# Validacao\n",
    "validacao$predicao <- predict(modelo1, type ='response', validacao) \n",
    "\n",
    "retorno_BH <- ifelse(validacao$Return > 0, validacao$Return, validacao$Return)\n",
    "retorno_BH_acumulado <- cumsum(retorno_BH)\n",
    "\n",
    "retorno_modelo1 <- ifelse(validacao$predicao > corte_up, validacao$Alvo1 - custo_op,\n",
    "                          ifelse(validacao$predicao < corte_low, -1*validacao$Alvo1 - custo_op,0))\n",
    "\n",
    "retorno_modelo1_acumulado <- cumsum(retorno_modelo1)\n",
    "\n",
    "# Grafico da Performance\n",
    "\n",
    "plot(retorno_modelo1_acumulado, type = \"l\", col = \"green\", lwd = 2,\n",
    "     main = \"Base de Validaçao\",\n",
    "     xlab = \"2009 - 2019\",\n",
    "     ylab = \"Retorno em %\",\n",
    "     ylim = c(-50,80))\n",
    "lines(retorno_BH_acumulado, col = \"blue\", lwd = 2)\n",
    "\n",
    "legend(1, 160, legend = c(\"RegLog\", \"B&H\"),\n",
    "       col = c(\"green\",\"blue\"), lty = 1:1, cex = 0.8)"
   ]
  },
  {
   "cell_type": "code",
   "execution_count": 52,
   "metadata": {
    "vscode": {
     "languageId": "r"
    }
   },
   "outputs": [
    {
     "name": "stdout",
     "output_type": "stream",
     "text": [
      "[1] \"Retorno de 2009 à 2019:  16.09 %\"\n",
      "[1] \"Retorno juros simples por ano:  1.46 %\"\n"
     ]
    }
   ],
   "source": [
    "# Retorno acumulado em quase 11 anos\n",
    "\n",
    "print(paste(\"Retorno de 2009 à 2019: \" ,round(last(retorno_modelo1_acumulado),2), \"%\"))\n",
    "\n",
    "print(paste(\"Retorno juros simples por ano: \" ,round(last(retorno_modelo1_acumulado)/11,2), \"%\"))"
   ]
  },
  {
   "cell_type": "markdown",
   "metadata": {},
   "source": [
    "---------------------------------------------------------------\n",
    "\n",
    "### Consideraçoes Finais\n",
    "\n",
    " - A avaliaçao de performance nao è com juros compostos, apenas simples e sem aumento de capital\n",
    " - Ou seja, os retornos podem ser muito maiores\n",
    " - Os custos operacionais sao baixos no Forex, mas possuem impacto relevante em mercados como o do Brasil\n",
    " - Os Ginis sao medianos;\n",
    " - Porém, no mercado financeiro qualquer coisa que acerte mais que uma moeda te dà um alpha\n"
   ]
  }
 ],
 "metadata": {
  "interpreter": {
   "hash": "8fac594bfae6525c0c41b4041d2d72effa188cc8ead05f81b1fab2bb098927fb"
  },
  "kernelspec": {
   "display_name": "R",
   "language": "R",
   "name": "python3812jvsc74a57bd00ede6c3e80682deaa79d8afcaf00f98a59f01bde906339b68f7481369cbdcb79"
  },
  "language_info": {
   "codemirror_mode": "r",
   "file_extension": ".r",
   "mimetype": "text/x-r-source",
   "name": "R",
   "pygments_lexer": "r",
   "version": "3.6.1"
  },
  "orig_nbformat": 4
 },
 "nbformat": 4,
 "nbformat_minor": 2
}
